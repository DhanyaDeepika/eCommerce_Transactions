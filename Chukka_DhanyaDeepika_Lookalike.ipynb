{
  "nbformat": 4,
  "nbformat_minor": 0,
  "metadata": {
    "colab": {
      "provenance": []
    },
    "kernelspec": {
      "name": "python3",
      "display_name": "Python 3"
    },
    "language_info": {
      "name": "python"
    }
  },
  "cells": [
    {
      "cell_type": "markdown",
      "source": [
        "Task 2: Lookalike Model"
      ],
      "metadata": {
        "id": "uqCR1qlA6Bn_"
      }
    },
    {
      "cell_type": "code",
      "source": [
        "# Import necessary libraries\n",
        "import pandas as pd\n",
        "from sklearn.feature_extraction.text import TfidfVectorizer\n",
        "from sklearn.metrics.pairwise import cosine_similarity\n",
        "from sklearn.preprocessing import MinMaxScaler\n",
        "\n",
        "# Load datasets\n",
        "customers = pd.read_csv('Customers.csv')\n",
        "products = pd.read_csv('Products.csv')\n",
        "transactions = pd.read_csv('Transactions.csv')\n",
        "\n",
        "# Merge datasets for comprehensive analysis\n",
        "merged_data = pd.merge(transactions, customers, on='CustomerID')\n",
        "merged_data = pd.merge(merged_data, products, on='ProductID')\n",
        "\n",
        "# Feature Engineering\n",
        "# Aggregate transaction data for each customer\n",
        "customer_features = merged_data.groupby('CustomerID').agg({\n",
        "    'Region': 'first',\n",
        "    'Category': lambda x: ' '.join(x),  # Concatenate product categories\n",
        "    'TotalValue': 'sum',               # Total spending\n",
        "    'Quantity': 'sum'                  # Total quantity purchased\n",
        "}).reset_index()\n",
        "\n",
        "# Normalize numerical features\n",
        "scaler = MinMaxScaler()\n",
        "customer_features[['TotalValue', 'Quantity']] = scaler.fit_transform(\n",
        "    customer_features[['TotalValue', 'Quantity']]\n",
        ")\n",
        "\n",
        "# Combine Region and Category into a single text field\n",
        "customer_features['CombinedText'] = (\n",
        "    customer_features['Region'] + ' ' + customer_features['Category']\n",
        ")\n",
        "\n",
        "# Use TF-IDF to vectorize the text data (Region + Product Categories)\n",
        "tfidf = TfidfVectorizer()\n",
        "tfidf_matrix = tfidf.fit_transform(customer_features['CombinedText'])\n",
        "\n",
        "# Combine text-based and numerical features\n",
        "from scipy.sparse import hstack\n",
        "combined_features = hstack([tfidf_matrix, customer_features[['TotalValue', 'Quantity']]])\n",
        "\n",
        "# Compute cosine similarity between all customers\n",
        "similarity_matrix = cosine_similarity(combined_features)\n",
        "\n",
        "# Recommend top 3 similar customers for the first 20 customers (C0001-C0020)\n",
        "lookalike_results = {}\n",
        "\n",
        "for idx, customer_id in enumerate(customer_features['CustomerID'][:20]):\n",
        "    # Get similarity scores for the current customer\n",
        "    similarity_scores = list(enumerate(similarity_matrix[idx]))\n",
        "    # Sort by similarity scores in descending order (excluding self)\n",
        "    similarity_scores = sorted(similarity_scores, key=lambda x: x[1], reverse=True)\n",
        "    similarity_scores = [(customer_features['CustomerID'][i], score) for i, score in similarity_scores if i != idx]\n",
        "    # Select top 3 similar customers\n",
        "    top_3 = similarity_scores[:3]\n",
        "    lookalike_results[customer_id] = top_3\n",
        "\n",
        "# Convert results to a dataframe\n",
        "lookalike_df = pd.DataFrame([\n",
        "    {'cust_id': cust_id, 'lookalikes': str(lookalikes)}\n",
        "    for cust_id, lookalikes in lookalike_results.items()\n",
        "])\n",
        "\n",
        "# Save as CSV\n",
        "lookalike_df.to_csv('Chukka_DhanyaDeepika_Lookalike.csv', index=False)\n",
        "print(\"Lookalike results saved to Chukka_DhanyaDeepika_Lookalike.csv.\")"
      ],
      "metadata": {
        "colab": {
          "base_uri": "https://localhost:8080/"
        },
        "id": "2Ia2MxLM8jDo",
        "outputId": "60391914-9ca0-4e8e-b565-c7a2b155552b"
      },
      "execution_count": 10,
      "outputs": [
        {
          "output_type": "stream",
          "name": "stdout",
          "text": [
            "Lookalike results saved to Chukka_DhanyaDeepika_Lookalike.csv.\n"
          ]
        }
      ]
    }
  ]
}